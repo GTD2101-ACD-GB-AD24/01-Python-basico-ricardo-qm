{
  "cells": [
    {
      "attachments": {},
      "cell_type": "markdown",
      "metadata": {},
      "source": [
        "# Condiciones y Estatutos Condicionales\n",
        "\n",
        "En este JNB se revisará el tema de Condiciones y Estatutos Condicionales"
      ]
    },
    {
      "cell_type": "code",
      "execution_count": 2,
      "metadata": {
        "id": "O8NoTzxjs2wK",
        "outputId": "fa4bc249-a4fa-48a6-9dc6-7733646ed223"
      },
      "outputs": [
        {
          "name": "stdout",
          "output_type": "stream",
          "text": [
            "False\n"
          ]
        }
      ],
      "source": [
        "print(2 > 3)"
      ]
    },
    {
      "cell_type": "code",
      "execution_count": 3,
      "metadata": {},
      "outputs": [
        {
          "name": "stdout",
          "output_type": "stream",
          "text": [
            "False\n",
            "True\n"
          ]
        }
      ],
      "source": [
        "var_one = 1\n",
        "var_two = 2\n",
        "\n",
        "print(var_one < 1)\n",
        "print(var_two >= var_one)"
      ]
    },
    {
      "cell_type": "code",
      "execution_count": 4,
      "metadata": {},
      "outputs": [],
      "source": [
        "def evaluate_temp(temp):\n",
        "    # Set an initial message\n",
        "    message = \"Normal temperature.\"\n",
        "    # Update value of message only if temperature greater than 38\n",
        "    if temp > 38:\n",
        "        message = \"Fever!\"\n",
        "    return message"
      ]
    },
    {
      "cell_type": "code",
      "execution_count": 5,
      "metadata": {},
      "outputs": [
        {
          "name": "stdout",
          "output_type": "stream",
          "text": [
            "Normal temperature.\n"
          ]
        }
      ],
      "source": [
        "print(evaluate_temp(37))"
      ]
    },
    {
      "cell_type": "code",
      "execution_count": 6,
      "metadata": {},
      "outputs": [
        {
          "name": "stdout",
          "output_type": "stream",
          "text": [
            "Fever!\n"
          ]
        }
      ],
      "source": [
        "print(evaluate_temp(39))"
      ]
    },
    {
      "cell_type": "code",
      "execution_count": 8,
      "metadata": {},
      "outputs": [],
      "source": [
        "def evaluate_temp_with_else(temp):\n",
        "    if temp > 38:\n",
        "        message = \"Fever!\"\n",
        "    else:\n",
        "        message = \"Normal temperature.\"\n",
        "    return message"
      ]
    },
    {
      "cell_type": "code",
      "execution_count": 9,
      "metadata": {},
      "outputs": [
        {
          "name": "stdout",
          "output_type": "stream",
          "text": [
            "Normal temperature.\n"
          ]
        }
      ],
      "source": [
        "print(evaluate_temp_with_else(37))"
      ]
    },
    {
      "cell_type": "code",
      "execution_count": 10,
      "metadata": {},
      "outputs": [],
      "source": [
        "def evaluate_temp_with_elif(temp):\n",
        "    if temp > 38:\n",
        "        message = \"Fever!\"\n",
        "    elif temp > 35:\n",
        "        message = \"Normal temperature.\"\n",
        "    else:\n",
        "        message = \"Low temperature.\"\n",
        "    return message"
      ]
    },
    {
      "cell_type": "code",
      "execution_count": 11,
      "metadata": {},
      "outputs": [
        {
          "data": {
            "text/plain": [
              "'Normal temperature.'"
            ]
          },
          "execution_count": 11,
          "metadata": {},
          "output_type": "execute_result"
        }
      ],
      "source": [
        "evaluate_temp_with_elif(36)"
      ]
    }
  ],
  "metadata": {
    "colab": {
      "include_colab_link": true,
      "provenance": []
    },
    "kernelspec": {
      "display_name": "Python 3.10.7 64-bit",
      "language": "python",
      "name": "python3"
    },
    "language_info": {
      "codemirror_mode": {
        "name": "ipython",
        "version": 3
      },
      "file_extension": ".py",
      "mimetype": "text/x-python",
      "name": "python",
      "nbconvert_exporter": "python",
      "pygments_lexer": "ipython3",
      "version": "3.12.1"
    },
    "orig_nbformat": 4,
    "vscode": {
      "interpreter": {
        "hash": "eb4a0ac80907d7f44e1a5e88d3d3381b33e3dbedd3a24d113e876f30a0c46bee"
      }
    }
  },
  "nbformat": 4,
  "nbformat_minor": 0
}
